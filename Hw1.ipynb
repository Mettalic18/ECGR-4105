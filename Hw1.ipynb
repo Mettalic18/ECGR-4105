{
 "cells": [
  {
   "cell_type": "code",
   "execution_count": 1,
   "id": "e771e38a",
   "metadata": {},
   "outputs": [
    {
     "name": "stdout",
     "output_type": "stream",
     "text": [
      "        price  area  bedrooms  bathrooms  stories mainroad guestroom basement  \\\n",
      "0    13300000  7420         4          2        3      yes        no       no   \n",
      "1    12250000  8960         4          4        4      yes        no       no   \n",
      "2    12250000  9960         3          2        2      yes        no      yes   \n",
      "3    12215000  7500         4          2        2      yes        no      yes   \n",
      "4    11410000  7420         4          1        2      yes       yes      yes   \n",
      "..        ...   ...       ...        ...      ...      ...       ...      ...   \n",
      "540   1820000  3000         2          1        1      yes        no      yes   \n",
      "541   1767150  2400         3          1        1       no        no       no   \n",
      "542   1750000  3620         2          1        1      yes        no       no   \n",
      "543   1750000  2910         3          1        1       no        no       no   \n",
      "544   1750000  3850         3          1        2      yes        no       no   \n",
      "\n",
      "    hotwaterheating airconditioning  parking prefarea furnishingstatus  \n",
      "0                no             yes        2      yes        furnished  \n",
      "1                no             yes        3       no        furnished  \n",
      "2                no              no        2      yes   semi-furnished  \n",
      "3                no             yes        3      yes        furnished  \n",
      "4                no             yes        2       no        furnished  \n",
      "..              ...             ...      ...      ...              ...  \n",
      "540              no              no        2       no      unfurnished  \n",
      "541              no              no        0       no   semi-furnished  \n",
      "542              no              no        0       no      unfurnished  \n",
      "543              no              no        0       no        furnished  \n",
      "544              no              no        0       no      unfurnished  \n",
      "\n",
      "[545 rows x 13 columns]\n"
     ]
    }
   ],
   "source": [
    "import numpy as np\n",
    "import pandas as pd\n",
    "import matplotlib.pyplot as plt\n",
    "import statistics as st\n",
    "df = pd.read_csv(\"Housing.csv\")\n",
    "print(df)"
   ]
  },
  {
   "cell_type": "code",
   "execution_count": 2,
   "id": "9089f1a6",
   "metadata": {},
   "outputs": [
    {
     "data": {
      "text/plain": [
       "array([13300000, 12250000, 12250000, 12215000, 11410000, 10850000,\n",
       "       10150000, 10150000,  9870000,  9800000,  9800000,  9681000,\n",
       "        9310000,  9240000,  9240000,  9100000,  9100000,  8960000,\n",
       "        8890000,  8855000,  8750000,  8680000,  8645000,  8645000,\n",
       "        8575000,  8540000,  8463000,  8400000,  8400000,  8400000,\n",
       "        8400000,  8400000,  8295000,  8190000,  8120000,  8080940,\n",
       "        8043000,  7980000,  7962500,  7910000,  7875000,  7840000,\n",
       "        7700000,  7700000,  7560000,  7560000,  7525000,  7490000,\n",
       "        7455000,  7420000,  7420000,  7420000,  7350000,  7350000,\n",
       "        7350000,  7350000,  7343000,  7245000,  7210000,  7210000,\n",
       "        7140000,  7070000,  7070000,  7035000,  7000000,  6930000,\n",
       "        6930000,  6895000,  6860000,  6790000,  6790000,  6755000,\n",
       "        6720000,  6685000,  6650000,  6650000,  6650000,  6650000,\n",
       "        6650000,  6650000,  6629000,  6615000,  6615000,  6580000,\n",
       "        6510000,  6510000,  6510000,  6475000,  6475000,  6440000,\n",
       "        6440000,  6419000,  6405000,  6300000,  6300000,  6300000,\n",
       "        6300000,  6300000,  6293000,  6265000,  6230000,  6230000,\n",
       "        6195000,  6195000,  6195000,  6160000,  6160000,  6125000,\n",
       "        6107500,  6090000,  6090000,  6090000,  6083000,  6083000,\n",
       "        6020000,  6020000,  6020000,  5950000,  5950000,  5950000,\n",
       "        5950000,  5950000,  5950000,  5950000,  5950000,  5943000,\n",
       "        5880000,  5880000,  5873000,  5873000,  5866000,  5810000,\n",
       "        5810000,  5810000,  5803000,  5775000,  5740000,  5740000,\n",
       "        5740000,  5740000,  5740000,  5652500,  5600000,  5600000,\n",
       "        5600000,  5600000,  5600000,  5600000,  5600000,  5600000,\n",
       "        5600000,  5565000,  5565000,  5530000,  5530000,  5530000,\n",
       "        5523000,  5495000,  5495000,  5460000,  5460000,  5460000,\n",
       "        5460000,  5425000,  5390000,  5383000,  5320000,  5285000,\n",
       "        5250000,  5250000,  5250000,  5250000,  5250000,  5250000,\n",
       "        5250000,  5250000,  5250000,  5243000,  5229000,  5215000,\n",
       "        5215000,  5215000,  5145000,  5145000,  5110000,  5110000,\n",
       "        5110000,  5110000,  5075000,  5040000,  5040000,  5040000,\n",
       "        5040000,  5033000,  5005000,  4970000,  4970000,  4956000,\n",
       "        4935000,  4907000,  4900000,  4900000,  4900000,  4900000,\n",
       "        4900000,  4900000,  4900000,  4900000,  4900000,  4900000,\n",
       "        4900000,  4900000,  4893000,  4893000,  4865000,  4830000,\n",
       "        4830000,  4830000,  4830000,  4795000,  4795000,  4767000,\n",
       "        4760000,  4760000,  4760000,  4753000,  4690000,  4690000,\n",
       "        4690000,  4690000,  4690000,  4690000,  4655000,  4620000,\n",
       "        4620000,  4620000,  4620000,  4620000,  4613000,  4585000,\n",
       "        4585000,  4550000,  4550000,  4550000,  4550000,  4550000,\n",
       "        4550000,  4550000,  4543000,  4543000,  4515000,  4515000,\n",
       "        4515000,  4515000,  4480000,  4480000,  4480000,  4480000,\n",
       "        4480000,  4473000,  4473000,  4473000,  4445000,  4410000,\n",
       "        4410000,  4403000,  4403000,  4403000,  4382000,  4375000,\n",
       "        4340000,  4340000,  4340000,  4340000,  4340000,  4319000,\n",
       "        4305000,  4305000,  4277000,  4270000,  4270000,  4270000,\n",
       "        4270000,  4270000,  4270000,  4235000,  4235000,  4200000,\n",
       "        4200000,  4200000,  4200000,  4200000,  4200000,  4200000,\n",
       "        4200000,  4200000,  4200000,  4200000,  4200000,  4200000,\n",
       "        4200000,  4200000,  4200000,  4200000,  4193000,  4193000,\n",
       "        4165000,  4165000,  4165000,  4130000,  4130000,  4123000,\n",
       "        4098500,  4095000,  4095000,  4095000,  4060000,  4060000,\n",
       "        4060000,  4060000,  4060000,  4025000,  4025000,  4025000,\n",
       "        4007500,  4007500,  3990000,  3990000,  3990000,  3990000,\n",
       "        3990000,  3920000,  3920000,  3920000,  3920000,  3920000,\n",
       "        3920000,  3920000,  3885000,  3885000,  3850000,  3850000,\n",
       "        3850000,  3850000,  3850000,  3850000,  3850000,  3836000,\n",
       "        3815000,  3780000,  3780000,  3780000,  3780000,  3780000,\n",
       "        3780000,  3773000,  3773000,  3773000,  3745000,  3710000,\n",
       "        3710000,  3710000,  3710000,  3710000,  3703000,  3703000,\n",
       "        3675000,  3675000,  3675000,  3675000,  3640000,  3640000,\n",
       "        3640000,  3640000,  3640000,  3640000,  3640000,  3640000,\n",
       "        3640000,  3633000,  3605000,  3605000,  3570000,  3570000,\n",
       "        3570000,  3570000,  3535000,  3500000,  3500000,  3500000,\n",
       "        3500000,  3500000,  3500000,  3500000,  3500000,  3500000,\n",
       "        3500000,  3500000,  3500000,  3500000,  3500000,  3500000,\n",
       "        3500000,  3500000,  3493000,  3465000,  3465000,  3465000,\n",
       "        3430000,  3430000,  3430000,  3430000,  3430000,  3430000,\n",
       "        3423000,  3395000,  3395000,  3395000,  3360000,  3360000,\n",
       "        3360000,  3360000,  3360000,  3360000,  3360000,  3360000,\n",
       "        3353000,  3332000,  3325000,  3325000,  3290000,  3290000,\n",
       "        3290000,  3290000,  3290000,  3290000,  3290000,  3290000,\n",
       "        3255000,  3255000,  3234000,  3220000,  3220000,  3220000,\n",
       "        3220000,  3150000,  3150000,  3150000,  3150000,  3150000,\n",
       "        3150000,  3150000,  3150000,  3150000,  3143000,  3129000,\n",
       "        3118850,  3115000,  3115000,  3115000,  3087000,  3080000,\n",
       "        3080000,  3080000,  3080000,  3045000,  3010000,  3010000,\n",
       "        3010000,  3010000,  3010000,  3010000,  3010000,  3003000,\n",
       "        2975000,  2961000,  2940000,  2940000,  2940000,  2940000,\n",
       "        2940000,  2940000,  2940000,  2940000,  2870000,  2870000,\n",
       "        2870000,  2870000,  2852500,  2835000,  2835000,  2835000,\n",
       "        2800000,  2800000,  2730000,  2730000,  2695000,  2660000,\n",
       "        2660000,  2660000,  2660000,  2660000,  2660000,  2660000,\n",
       "        2653000,  2653000,  2604000,  2590000,  2590000,  2590000,\n",
       "        2520000,  2520000,  2520000,  2485000,  2485000,  2450000,\n",
       "        2450000,  2450000,  2450000,  2450000,  2450000,  2408000,\n",
       "        2380000,  2380000,  2380000,  2345000,  2310000,  2275000,\n",
       "        2275000,  2275000,  2240000,  2233000,  2135000,  2100000,\n",
       "        2100000,  2100000,  1960000,  1890000,  1890000,  1855000,\n",
       "        1820000,  1767150,  1750000,  1750000,  1750000], dtype=int64)"
      ]
     },
     "metadata": {},
     "output_type": "display_data"
    }
   ],
   "source": [
    "xp1_1Columns = df.columns.drop('price').drop('mainroad').drop('guestroom').drop('basement').drop('hotwaterheating').drop('airconditioning').drop('prefarea').drop('furnishingstatus')\n",
    "x = df[xp1_1Columns].values\n",
    "y = df['price'].values\n",
    "\n",
    "display(y)"
   ]
  },
  {
   "cell_type": "code",
   "execution_count": 3,
   "id": "d4aaa7af",
   "metadata": {},
   "outputs": [],
   "source": [
    "# gradient descent values for problem 1.1\n",
    "it = 1000\n",
    "a = 10**(-8)\n",
    "theta = np.zeros(6)\n",
    "x0 = np.ones((len(y),1))\n",
    "\n",
    "x= np.hstack((x0,x))\n",
    "z = int(0.8 * len(y))\n",
    "x, Vx = x[:z], x[z:]\n",
    "y, Vy = y[:z], y[z:]\n"
   ]
  },
  {
   "cell_type": "code",
   "execution_count": 4,
   "id": "08b1a09a",
   "metadata": {},
   "outputs": [
    {
     "name": "stdout",
     "output_type": "stream",
     "text": [
      "15435824460761.01\n"
     ]
    }
   ],
   "source": [
    "# LINEAR REGRESSION\n",
    "\n",
    "def linreg(theta,x,y):\n",
    "    \n",
    "    temp = x.dot(theta)\n",
    "    err = np.float64(np.subtract(temp,y))\n",
    "    J = np.float64(1/(2*len(y))*np.sum(err*err))\n",
    "    return J\n",
    "print(linreg(theta,x,y))"
   ]
  },
  {
   "cell_type": "code",
   "execution_count": 5,
   "id": "eb76a197",
   "metadata": {},
   "outputs": [],
   "source": [
    "# GRADIENT DESCENT\n",
    "\n",
    "def grad_desc(theta,x,y,a,it,Vx,Vy):\n",
    "    \n",
    "    loss_train_array = np.zeros(it)\n",
    "    loss_validation_array = np.zeros(it)\n",
    "    \n",
    "    for b in range(it):\n",
    "        pred = x.dot(theta)\n",
    "        difference = np.subtract(pred,y)\n",
    "        sumd = (a/len(y)) * x.transpose().dot(difference)\n",
    "        theta = theta - sumd\n",
    "        loss_train_array[b] = linreg(theta,x,y)\n",
    "        loss_validation_array[b] = linreg(theta,Vx,Vy)\n",
    "    \n",
    "    return theta, loss_train_array, loss_validation_array\n",
    "theta, p1_1t, p1_1v = grad_desc(theta,x,y,a,it,Vx,Vy)\n"
   ]
  },
  {
   "cell_type": "code",
   "execution_count": 6,
   "id": "73c4e77f",
   "metadata": {},
   "outputs": [
    {
     "name": "stdout",
     "output_type": "stream",
     "text": [
      "[  4.62517886 880.07829411  16.66791764   9.30939615  14.43946955\n",
      "   3.23610557]\n"
     ]
    },
    {
     "data": {
      "text/plain": [
       "<matplotlib.legend.Legend at 0x2634a000610>"
      ]
     },
     "execution_count": 6,
     "metadata": {},
     "output_type": "execute_result"
    },
    {
     "data": {
      "image/png": "[encoded data removed]",
      "text/plain": [
       "<Figure size 432x288 with 1 Axes>"
      ]
     },
     "metadata": {
      "needs_background": "light"
     },
     "output_type": "display_data"
    }
   ],
   "source": [
    "print(theta)\n",
    "plt.plot(range(1000),p1_1t, color ='blue',label='Training Loss')\n",
    "plt.plot(range(1000),p1_1v, color ='red', label='Validation Loss')\n",
    "plt.title('Loss Function of total')\n",
    "plt.xlabel('Iteration')\n",
    "plt.ylabel('Loss')\n",
    "plt.legend()"
   ]
  },
  {
   "cell_type": "code",
   "execution_count": 7,
   "id": "d1d0f88f",
   "metadata": {},
   "outputs": [],
   "source": [
    "#Problem 1-b\n",
    "xnum = ['area','bedrooms','bathrooms','stories','parking']\n",
    "xbin = ['mainroad','guestroom','basement','hotwaterheating','airconditioning','prefarea']\n",
    "y = df['price'].values\n",
    "def map_bin(x):\n",
    "    return x.map({'yes':1,'no':0})\n",
    "xbin = df[xbin].apply(map_bin)\n"
   ]
  },
  {
   "cell_type": "code",
   "execution_count": 8,
   "id": "5ebabaa0",
   "metadata": {},
   "outputs": [
    {
     "name": "stdout",
     "output_type": "stream",
     "text": [
      "     area  bedrooms  bathrooms  stories  parking  mainroad  guestroom  \\\n",
      "0    7420         4          2        3        2         1          0   \n",
      "1    8960         4          4        4        3         1          0   \n",
      "2    9960         3          2        2        2         1          0   \n",
      "3    7500         4          2        2        3         1          0   \n",
      "4    7420         4          1        2        2         1          1   \n",
      "..    ...       ...        ...      ...      ...       ...        ...   \n",
      "540  3000         2          1        1        2         1          0   \n",
      "541  2400         3          1        1        0         0          0   \n",
      "542  3620         2          1        1        0         1          0   \n",
      "543  2910         3          1        1        0         0          0   \n",
      "544  3850         3          1        2        0         1          0   \n",
      "\n",
      "     basement  hotwaterheating  airconditioning  prefarea  \n",
      "0           0                0                1         1  \n",
      "1           0                0                1         0  \n",
      "2           1                0                0         1  \n",
      "3           1                0                1         1  \n",
      "4           1                0                1         0  \n",
      "..        ...              ...              ...       ...  \n",
      "540         1                0                0         0  \n",
      "541         0                0                0         0  \n",
      "542         0                0                0         0  \n",
      "543         0                0                0         0  \n",
      "544         0                0                0         0  \n",
      "\n",
      "[545 rows x 11 columns]\n"
     ]
    }
   ],
   "source": [
    "xtot=pd.concat((df[xnum],xbin),axis=1)\n",
    "print(xtot)"
   ]
  },
  {
   "cell_type": "code",
   "execution_count": 9,
   "id": "05bfdab9",
   "metadata": {},
   "outputs": [],
   "source": [
    "it = 1000\n",
    "a = 10**(-8)\n",
    "theta = np.zeros(12)\n",
    "x0 = np.ones((len(y),1))\n",
    "\n",
    "x= np.hstack((x0,xtot))\n",
    "z = int(0.8 * len(y))\n",
    "x, Vx = x[:z], x[z:]\n",
    "y, Vy = y[:z], y[z:]"
   ]
  },
  {
   "cell_type": "code",
   "execution_count": 10,
   "id": "8ed172cb",
   "metadata": {},
   "outputs": [
    {
     "name": "stdout",
     "output_type": "stream",
     "text": [
      "[4.62517504e+00 8.80077166e+02 1.66679061e+01 9.30939105e+00\n",
      " 1.44394617e+01 3.23610411e+00 4.04030351e+00 1.59044380e+00\n",
      " 2.68311829e+00 6.72566271e-01 3.52758029e+00 1.62265350e+00]\n"
     ]
    },
    {
     "data": {
      "text/plain": [
       "<matplotlib.legend.Legend at 0x2634a14c640>"
      ]
     },
     "execution_count": 10,
     "metadata": {},
     "output_type": "execute_result"
    },
    {
     "data": {
      "image/png": "[encoded data removed]",
      "text/plain": [
       "<Figure size 432x288 with 1 Axes>"
      ]
     },
     "metadata": {
      "needs_background": "light"
     },
     "output_type": "display_data"
    }
   ],
   "source": [
    "theta, p1_2t, p1_2v = grad_desc(theta,x,y,a,it,Vx,Vy)\n",
    "print(theta)\n",
    "plt.plot(range(1000),p1_2t, color ='blue',label='Training Loss')\n",
    "plt.plot(range(1000),p1_2v, color ='red', label='Validation Loss')\n",
    "plt.title('Loss Function of total')\n",
    "plt.xlabel('Iteration')\n",
    "plt.ylabel('Loss')\n",
    "plt.legend()"
   ]
  },
  {
   "cell_type": "code",
   "execution_count": 11,
   "id": "ef1c6796",
   "metadata": {},
   "outputs": [
    {
     "name": "stdout",
     "output_type": "stream",
     "text": [
      "column:   0\n",
      "mean:   5150.54128440367\n",
      "sdev:   2170.141022508803\n",
      "column:   1\n",
      "mean:   2.9651376146788992\n",
      "sdev:   0.7380638605685743\n",
      "column:   2\n",
      "mean:   1.2862385321100918\n",
      "sdev:   0.5024696160532146\n",
      "column:   3\n",
      "mean:   1.8055045871559634\n",
      "sdev:   0.8674924629255264\n",
      "column:   4\n",
      "mean:   0.6935779816513762\n",
      "sdev:   0.8615857504605413\n"
     ]
    }
   ],
   "source": [
    "#problem 2a + 2b\n",
    "\n",
    "x = df[xp1_1Columns].values\n",
    "y = df['price'].values\n",
    "x0 = np.ones((len(y),1))\n",
    "\n",
    "x_stand = np.float64(x)\n",
    "y_stand = np.float64(y)\n",
    "\n",
    "x_norm = np.float64(x)\n",
    "y_norm = np.float64(y)\n",
    "\n",
    "\n",
    "\n",
    "\n",
    "\n",
    "\n",
    "def min_max(z,y):\n",
    "    i = 0\n",
    "    j = 0\n",
    "    m = 0\n",
    "    num_rows, num_columns = z.shape\n",
    "    \n",
    "    while i < num_columns:\n",
    "        while j < num_rows:\n",
    "            temp = z[j, i]   \n",
    "            z[j,i] = ((temp - np.amin(z[:,i]))/(np.amax(z[:,i])-np.amin(z[:,i])))\n",
    "            j=j+1\n",
    "        i=i+1\n",
    "    while m < len(y):\n",
    "        y[m] =((y[m] - np.amin(y))/(np.amax(y)-np.amin(y)))\n",
    "        m+=1\n",
    "min_max(x_norm,y_norm)\n",
    "\n",
    "\n",
    "\n",
    "\n",
    "\n",
    "def z_score(z,y):\n",
    "    i=0\n",
    "    j=0\n",
    "    m=0\n",
    "    num_rows, num_columns = z.shape\n",
    "    \n",
    "    while i < num_columns:\n",
    "        print('column:  ',i)\n",
    "        print('mean:  ',st.mean(z[:,i]))\n",
    "        print('sdev:  ',st.stdev(z[:,i]))\n",
    "        while j < num_rows:\n",
    "            z[j,i] = np.float64(((z[j,i]) - st.mean(z[:,i]))/(st.stdev(z[:,i])))\n",
    "            j+=1\n",
    "        i+=1\n",
    "    while m < len(y):\n",
    "        y[m]=((y[m] - st.mean(y))/(st.stdev(y)))\n",
    "        m+=1\n",
    "z_score(x_stand,y_stand)\n",
    "\n",
    "x_norm = np.hstack((x0,x_norm))\n",
    "x_stand = np.hstack((x0,x_stand))\n",
    "\n",
    "z = int(0.8 * len(y))\n",
    "\n",
    "x_norm, Vx_norm = x_norm[:z], x_norm[z:]\n",
    "y_norm, Vy_norm = y_norm[:z], y_norm[z:]\n",
    "\n",
    "x_stand, Vx_stand = x_stand[:z], x_stand[z:]\n",
    "y_stand, Vy_stand = y_stand[:z], y_stand[z:]\n",
    "\n",
    "\n",
    "\n"
   ]
  },
  {
   "cell_type": "code",
   "execution_count": 12,
   "id": "aa9aad0e",
   "metadata": {},
   "outputs": [
    {
     "name": "stdout",
     "output_type": "stream",
     "text": [
      "[0.39233012 0.13442126 0.14164388 0.04894409 0.01280022 0.00564986]\n"
     ]
    },
    {
     "data": {
      "text/plain": [
       "<matplotlib.legend.Legend at 0x2634a1dfd60>"
      ]
     },
     "execution_count": 12,
     "metadata": {},
     "output_type": "execute_result"
    },
    {
     "data": {
      "image/png": "[encoded data removed]",
      "text/plain": [
       "<Figure size 432x288 with 1 Axes>"
      ]
     },
     "metadata": {
      "needs_background": "light"
     },
     "output_type": "display_data"
    }
   ],
   "source": [
    "#problem 2a NORMALIZATION\n",
    "theta = np.zeros(6)\n",
    "a = 10**(-2)\n",
    "theta, p2_1nt, p2_1nv = grad_desc(theta,x_norm,y_norm,a,it,Vx_norm,Vy_norm)\n",
    "print(theta)\n",
    "plt.plot(range(1000),p2_1nt, color ='blue',label='Training Loss')\n",
    "plt.plot(range(1000),p2_1nv, color ='red', label='Validation Loss')\n",
    "plt.title('Loss Function of total')\n",
    "plt.xlabel('Iteration')\n",
    "plt.ylabel('Loss')\n",
    "plt.legend()"
   ]
  },
  {
   "cell_type": "code",
   "execution_count": 13,
   "id": "bf75bb37",
   "metadata": {},
   "outputs": [
    {
     "name": "stdout",
     "output_type": "stream",
     "text": [
      "[0.14072167 0.16505204 0.27742273 0.15556084 0.14238508 0.08419791]\n"
     ]
    },
    {
     "data": {
      "text/plain": [
       "<matplotlib.legend.Legend at 0x2634a0dcaf0>"
      ]
     },
     "execution_count": 13,
     "metadata": {},
     "output_type": "execute_result"
    },
    {
     "data": {
      "image/png": "[encoded data removed]",
      "text/plain": [
       "<Figure size 432x288 with 1 Axes>"
      ]
     },
     "metadata": {
      "needs_background": "light"
     },
     "output_type": "display_data"
    }
   ],
   "source": [
    "#problem 2a STANDARDIZATION\n",
    "theta = np.zeros(6)\n",
    "a = 10**(-3)\n",
    "theta, p2_1st, p2_1sv = grad_desc(theta,x_stand,y_stand,a,it,Vx_stand,Vy_stand)\n",
    "print(theta)\n",
    "plt.plot(range(1000),p2_1st, color ='blue',label='Training Loss')\n",
    "plt.plot(range(1000),p2_1sv, color ='red', label='Validation Loss')\n",
    "plt.title('Loss Function of total')\n",
    "plt.xlabel('Iteration')\n",
    "plt.ylabel('Loss')\n",
    "plt.legend()"
   ]
  },
  {
   "cell_type": "code",
   "execution_count": 14,
   "id": "a0f0856d",
   "metadata": {},
   "outputs": [
    {
     "name": "stdout",
     "output_type": "stream",
     "text": [
      "     area  bedrooms  bathrooms  stories  parking\n",
      "0    7420         4          2        3        2\n",
      "1    8960         4          4        4        3\n",
      "2    9960         3          2        2        2\n",
      "3    7500         4          2        2        3\n",
      "4    7420         4          1        2        2\n",
      "..    ...       ...        ...      ...      ...\n",
      "540  3000         2          1        1        2\n",
      "541  2400         3          1        1        0\n",
      "542  3620         2          1        1        0\n",
      "543  2910         3          1        1        0\n",
      "544  3850         3          1        2        0\n",
      "\n",
      "[545 rows x 5 columns]\n",
      "column:   0\n",
      "mean:   5150.54128440367\n",
      "sdev:   2170.141022508803\n",
      "column:   1\n",
      "mean:   2.9651376146788992\n",
      "sdev:   0.7380638605685743\n",
      "column:   2\n",
      "mean:   1.2862385321100918\n",
      "sdev:   0.5024696160532146\n",
      "column:   3\n",
      "mean:   1.8055045871559634\n",
      "sdev:   0.8674924629255264\n",
      "column:   4\n",
      "mean:   0.6935779816513762\n",
      "sdev:   0.8615857504605413\n",
      "column:   5\n",
      "mean:   0.8587155963302753\n",
      "sdev:   0.3486346818552864\n",
      "column:   6\n",
      "mean:   0.1779816513761468\n",
      "sdev:   0.3828486968277535\n",
      "column:   7\n",
      "mean:   0.3504587155963303\n",
      "sdev:   0.47755193997058665\n",
      "column:   8\n",
      "mean:   0.045871559633027525\n",
      "sdev:   0.2093986971189168\n",
      "column:   9\n",
      "mean:   0.3155963302752294\n",
      "sdev:   0.4651798971916287\n",
      "column:   10\n",
      "mean:   0.23486238532110093\n",
      "sdev:   0.42430222710285986\n"
     ]
    }
   ],
   "source": [
    "#problem 2b\n",
    "xnum = ['area','bedrooms','bathrooms','stories','parking']\n",
    "xbin = ['mainroad','guestroom','basement','hotwaterheating','airconditioning','prefarea']\n",
    "y = df['price'].values\n",
    "xbin = df[xbin].apply(map_bin)\n",
    "print(df[xnum])\n",
    "xtot=pd.concat((df[xnum],xbin),axis=1)\n",
    "\n",
    "x_norm = np.float64(xtot)\n",
    "y_norm = np.float64(y)\n",
    "min_max(x_norm,y_norm)\n",
    "\n",
    "x_stand = np.float64(xtot)\n",
    "y_stand = np.float64(y)\n",
    "z_score(x_stand,y_stand)\n",
    "\n",
    "x_norm = np.hstack((x0,x_norm))\n",
    "x_stand = np.hstack((x0,x_stand))\n",
    "\n",
    "z = int(0.8 * len(y))\n",
    "\n",
    "x_norm, Vx_norm = x_norm[:z], x_norm[z:]\n",
    "y_norm, Vy_norm = y_norm[:z], y_norm[z:]\n",
    "\n",
    "x_stand, Vx_stand = x_stand[:z], x_stand[z:]\n",
    "y_stand, Vy_stand = y_stand[:z], y_stand[z:]\n",
    "\n",
    "\n"
   ]
  },
  {
   "cell_type": "code",
   "execution_count": 15,
   "id": "a3b524e8",
   "metadata": {},
   "outputs": [
    {
     "name": "stdout",
     "output_type": "stream",
     "text": [
      "[0.12747951 0.04776563 0.16892096 0.06344739 0.04363081 0.0177524\n",
      " 0.10387182 0.00761702 0.04119458 0.0032346  0.00507881 0.01958729]\n"
     ]
    },
    {
     "data": {
      "text/plain": [
       "<matplotlib.legend.Legend at 0x2634a0bf610>"
      ]
     },
     "execution_count": 15,
     "metadata": {},
     "output_type": "execute_result"
    },
    {
     "data": {
      "image/png": "[encoded data removed]",
      "text/plain": [
       "<Figure size 432x288 with 1 Axes>"
      ]
     },
     "metadata": {
      "needs_background": "light"
     },
     "output_type": "display_data"
    }
   ],
   "source": [
    "#problem 2b NORMALIZATION\n",
    "theta = np.zeros(12)\n",
    "a = 10**(-3)\n",
    "it = 2000\n",
    "theta, p2_2nt, p2_2nv = grad_desc(theta,x_norm,y_norm,a,it,Vx_norm,Vy_norm)\n",
    "print(theta)\n",
    "plt.plot(range(it),p2_2nt, color ='blue',label='Training Loss')\n",
    "plt.plot(range(it),p2_2nv, color ='red', label='Validation Loss')\n",
    "plt.title('Loss Function of total')\n",
    "plt.xlabel('Iteration')\n",
    "plt.ylabel('Loss')\n",
    "plt.legend()"
   ]
  },
  {
   "cell_type": "code",
   "execution_count": 16,
   "id": "6f15a1cb",
   "metadata": {},
   "outputs": [
    {
     "name": "stdout",
     "output_type": "stream",
     "text": [
      "[ 0.16630779  0.17116622  0.23456605  0.16449493  0.11169471  0.07071187\n",
      "  0.12711299 -0.00274724  0.05166138  0.01566839  0.04011875  0.04541628]\n"
     ]
    },
    {
     "data": {
      "text/plain": [
       "<matplotlib.legend.Legend at 0x2634a33f070>"
      ]
     },
     "execution_count": 16,
     "metadata": {},
     "output_type": "execute_result"
    },
    {
     "data": {
      "image/png": "[encoded data removed]",
      "text/plain": [
       "<Figure size 432x288 with 1 Axes>"
      ]
     },
     "metadata": {
      "needs_background": "light"
     },
     "output_type": "display_data"
    }
   ],
   "source": [
    "#problem 2b STANDARDIZATION\n",
    "theta = np.zeros(12)\n",
    "a = 10**(-3)\n",
    "it = 2000\n",
    "theta, p2_2st, p2_2sv = grad_desc(theta,x_stand,y_stand,a,it,Vx_stand,Vy_stand)\n",
    "print(theta)\n",
    "plt.plot(range(it),p2_2st, color ='blue',label='Training Loss')\n",
    "plt.plot(range(it),p2_2sv, color ='red', label='Validation Loss')\n",
    "plt.title('Loss Function of total')\n",
    "plt.xlabel('Iteration')\n",
    "plt.ylabel('Loss')\n",
    "plt.legend()"
   ]
  },
  {
   "cell_type": "code",
   "execution_count": 17,
   "id": "99e14212",
   "metadata": {},
   "outputs": [],
   "source": [
    "#problem 3a + 3b\n",
    "def linreg_PP(theta,x,y):\n",
    "    lamb = 0.0001\n",
    "    temp = x.dot(theta)\n",
    "    err = np.float64(np.subtract(temp,y))\n",
    "    J = np.float64(1/(2*len(y))*(np.sum(err*err)+lamb*np.sum(theta**2)))\n",
    "    return J\n",
    "def grad_desc_PP(theta,x,y,a,it,Vx,Vy):\n",
    "    \n",
    "    loss_train_array = np.zeros(it)\n",
    "    loss_validation_array = np.zeros(it)\n",
    "    lamb = 0.0001\n",
    "    for b in range(it):\n",
    "        pred = x.dot(theta)\n",
    "        difference = np.subtract(pred,y)\n",
    "        sumd = ((a/len(y)) * (x.transpose().dot(difference)+ ((lamb/len(y))*np.sum(theta**2))))\n",
    "        theta = theta - sumd\n",
    "        loss_train_array[b] = linreg_PP(theta,x,y)\n",
    "        loss_validation_array[b] = linreg_PP(theta,Vx,Vy)\n",
    "    \n",
    "    return theta, loss_train_array, loss_validation_array"
   ]
  },
  {
   "cell_type": "code",
   "execution_count": 18,
   "id": "3b69744f",
   "metadata": {},
   "outputs": [],
   "source": [
    "#problem 3a p1\n",
    "x = df[xp1_1Columns].values\n",
    "y = df['price'].values\n",
    "x0 = np.ones((len(y),1))\n",
    "\n",
    "\n",
    "x_norm = np.float64(x)\n",
    "y_norm = np.float64(y)\n",
    "min_max(x_norm,y_norm)\n",
    "\n",
    "x_norm = np.hstack((x0,x_norm))\n",
    "\n",
    "z = int(0.8 * len(y))\n",
    "\n",
    "x_norm, Vx_norm = x_norm[:z], x_norm[z:]\n",
    "y_norm, Vy_norm = y_norm[:z], y_norm[z:]\n",
    "\n"
   ]
  },
  {
   "cell_type": "code",
   "execution_count": 19,
   "id": "42352dac",
   "metadata": {},
   "outputs": [
    {
     "name": "stdout",
     "output_type": "stream",
     "text": [
      "[0.10047946 0.0394879  0.1872956  0.07584505 0.07243224 0.03447497]\n"
     ]
    },
    {
     "data": {
      "text/plain": [
       "<matplotlib.legend.Legend at 0x2634a3bd1c0>"
      ]
     },
     "execution_count": 19,
     "metadata": {},
     "output_type": "execute_result"
    },
    {
     "data": {
      "image/png": "[encoded data removed]",
      "text/plain": [
       "<Figure size 432x288 with 1 Axes>"
      ]
     },
     "metadata": {
      "needs_background": "light"
     },
     "output_type": "display_data"
    }
   ],
   "source": [
    "#problem 3a NORMALIZATION \n",
    "theta = np.zeros(6)\n",
    "a = 10**(-3)\n",
    "it = 1000\n",
    "theta, p3_1nt, p3_1nv = grad_desc_PP(theta,x_norm,y_norm,a,it,Vx_norm,Vy_norm)\n",
    "print(theta)\n",
    "plt.plot(range(it),p2_1nt, color ='blue',label='Training Loss')\n",
    "plt.plot(range(it),p2_1nv, color ='red', label='Validation Loss')\n",
    "plt.title('Loss Function of total')\n",
    "plt.xlabel('Iteration')\n",
    "plt.ylabel('Loss')\n",
    "plt.legend()"
   ]
  },
  {
   "cell_type": "code",
   "execution_count": 20,
   "id": "982a5e8e",
   "metadata": {},
   "outputs": [
    {
     "name": "stdout",
     "output_type": "stream",
     "text": [
      "column:   0\n",
      "mean:   5150.54128440367\n",
      "sdev:   2170.141022508803\n",
      "column:   1\n",
      "mean:   2.9651376146788992\n",
      "sdev:   0.7380638605685743\n",
      "column:   2\n",
      "mean:   1.2862385321100918\n",
      "sdev:   0.5024696160532146\n",
      "column:   3\n",
      "mean:   1.8055045871559634\n",
      "sdev:   0.8674924629255264\n",
      "column:   4\n",
      "mean:   0.6935779816513762\n",
      "sdev:   0.8615857504605413\n"
     ]
    }
   ],
   "source": [
    "#problem 3a p2\n",
    "x = df[xp1_1Columns].values\n",
    "y = df['price'].values\n",
    "x0 = np.ones((len(y),1))\n",
    "\n",
    "x_stand = np.float64(x)\n",
    "y_stand = np.float64(y)\n",
    "z_score(x_stand,y_stand)\n",
    "\n",
    "x_stand = np.hstack((x0,x_stand))\n",
    "\n",
    "z = int(0.8 * len(y))\n",
    "\n",
    "x_norm, Vx_norm = x_norm[:z], x_norm[z:]\n",
    "y_norm, Vy_norm = y_norm[:z], y_norm[z:]\n",
    "\n",
    "x_stand, Vx_stand = x_stand[:z], x_stand[z:]\n",
    "y_stand, Vy_stand = y_stand[:z], y_stand[z:]\n"
   ]
  },
  {
   "cell_type": "code",
   "execution_count": 21,
   "id": "4cd6cc9f",
   "metadata": {},
   "outputs": [
    {
     "name": "stdout",
     "output_type": "stream",
     "text": [
      "[0.18439352 0.18170444 0.26138544 0.17766734 0.12150808 0.08176152]\n"
     ]
    },
    {
     "data": {
      "text/plain": [
       "<matplotlib.legend.Legend at 0x2634a3a0a60>"
      ]
     },
     "execution_count": 21,
     "metadata": {},
     "output_type": "execute_result"
    },
    {
     "data": {
      "image/png": "[encoded data removed]",
      "text/plain": [
       "<Figure size 432x288 with 1 Axes>"
      ]
     },
     "metadata": {
      "needs_background": "light"
     },
     "output_type": "display_data"
    }
   ],
   "source": [
    "#problem 3a STANDARDIZATION\n",
    "theta = np.zeros(6)\n",
    "a = 10**(-3)\n",
    "it = 2000\n",
    "theta, p3_1st, p3_1sv = grad_desc_PP(theta,x_stand,y_stand,a,it,Vx_stand,Vy_stand)\n",
    "print(theta)\n",
    "plt.plot(range(it),p3_1st, color ='blue',label='Training Loss')\n",
    "plt.plot(range(it),p3_1sv, color ='red', label='Validation Loss')\n",
    "plt.title('Loss Function of total')\n",
    "plt.xlabel('Iteration')\n",
    "plt.ylabel('Loss')\n",
    "plt.legend()"
   ]
  },
  {
   "cell_type": "code",
   "execution_count": 22,
   "id": "eb882e8f",
   "metadata": {},
   "outputs": [
    {
     "name": "stdout",
     "output_type": "stream",
     "text": [
      "column:   0\n",
      "mean:   5150.54128440367\n",
      "sdev:   2170.141022508803\n",
      "column:   1\n",
      "mean:   2.9651376146788992\n",
      "sdev:   0.7380638605685743\n",
      "column:   2\n",
      "mean:   1.2862385321100918\n",
      "sdev:   0.5024696160532146\n",
      "column:   3\n",
      "mean:   1.8055045871559634\n",
      "sdev:   0.8674924629255264\n",
      "column:   4\n",
      "mean:   0.6935779816513762\n",
      "sdev:   0.8615857504605413\n",
      "column:   5\n",
      "mean:   0.8587155963302753\n",
      "sdev:   0.3486346818552864\n",
      "column:   6\n",
      "mean:   0.1779816513761468\n",
      "sdev:   0.3828486968277535\n",
      "column:   7\n",
      "mean:   0.3504587155963303\n",
      "sdev:   0.47755193997058665\n",
      "column:   8\n",
      "mean:   0.045871559633027525\n",
      "sdev:   0.2093986971189168\n",
      "column:   9\n",
      "mean:   0.3155963302752294\n",
      "sdev:   0.4651798971916287\n",
      "column:   10\n",
      "mean:   0.23486238532110093\n",
      "sdev:   0.42430222710285986\n"
     ]
    }
   ],
   "source": [
    "#problem 3b p1\n",
    "xnum = ['area','bedrooms','bathrooms','stories','parking']\n",
    "xbin = ['mainroad','guestroom','basement','hotwaterheating','airconditioning','prefarea']\n",
    "y = df['price'].values\n",
    "xbin = df[xbin].apply(map_bin)\n",
    "xtot=pd.concat((df[xnum],xbin),axis=1)\n",
    "\n",
    "x_norm = np.float64(xtot)\n",
    "y_norm = np.float64(y)\n",
    "min_max(x_norm,y_norm)\n",
    "\n",
    "x_stand = np.float64(xtot)\n",
    "y_stand = np.float64(y)\n",
    "z_score(x_stand,y_stand)\n",
    "\n",
    "x_norm = np.hstack((x0,x_norm))\n",
    "x_stand = np.hstack((x0,x_stand))\n",
    "\n",
    "z = int(0.8 * len(y))\n",
    "\n",
    "x_norm, Vx_norm = x_norm[:z], x_norm[z:]\n",
    "y_norm, Vy_norm = y_norm[:z], y_norm[z:]\n",
    "\n",
    "x_stand, Vx_stand = x_stand[:z], x_stand[z:]\n",
    "y_stand, Vy_stand = y_stand[:z], y_stand[z:]\n"
   ]
  },
  {
   "cell_type": "code",
   "execution_count": 23,
   "id": "3dd23498",
   "metadata": {},
   "outputs": [
    {
     "name": "stdout",
     "output_type": "stream",
     "text": [
      "[0.12747951 0.04776563 0.16892096 0.06344739 0.04363081 0.0177524\n",
      " 0.10387182 0.00761702 0.04119458 0.0032346  0.00507881 0.01958729]\n"
     ]
    },
    {
     "data": {
      "text/plain": [
       "<matplotlib.legend.Legend at 0x2634a4bc1c0>"
      ]
     },
     "execution_count": 23,
     "metadata": {},
     "output_type": "execute_result"
    },
    {
     "data": {
      "image/png": "[encoded data removed]",
      "text/plain": [
       "<Figure size 432x288 with 1 Axes>"
      ]
     },
     "metadata": {
      "needs_background": "light"
     },
     "output_type": "display_data"
    }
   ],
   "source": [
    "#problem 3b NORMALIZATION\n",
    "theta = np.zeros(12)\n",
    "a = 10**(-3)\n",
    "it = 2000\n",
    "theta, p3_2nt, p3_2nv = grad_desc_PP(theta,x_norm,y_norm,a,it,Vx_norm,Vy_norm)\n",
    "print(theta)\n",
    "plt.plot(range(it),p3_2nt, color ='blue',label='Training Loss')\n",
    "plt.plot(range(it),p3_2nv, color ='red', label='Validation Loss')\n",
    "plt.title('Loss Function of total')\n",
    "plt.xlabel('Iteration')\n",
    "plt.ylabel('Loss')\n",
    "plt.legend()\n"
   ]
  },
  {
   "cell_type": "code",
   "execution_count": 24,
   "id": "38a9270d",
   "metadata": {},
   "outputs": [
    {
     "name": "stdout",
     "output_type": "stream",
     "text": [
      "[ 0.16630779  0.17116622  0.23456605  0.16449493  0.11169471  0.07071187\n",
      "  0.12711299 -0.00274724  0.05166138  0.01566839  0.04011875  0.04541628]\n"
     ]
    },
    {
     "data": {
      "text/plain": [
       "<matplotlib.legend.Legend at 0x2634a4b9550>"
      ]
     },
     "execution_count": 24,
     "metadata": {},
     "output_type": "execute_result"
    },
    {
     "data": {
      "image/png": "[encoded data removed]",
      "text/plain": [
       "<Figure size 432x288 with 1 Axes>"
      ]
     },
     "metadata": {
      "needs_background": "light"
     },
     "output_type": "display_data"
    }
   ],
   "source": [
    "#problem 3b STANDARDIZATION\n",
    "theta = np.zeros(12)\n",
    "a = 10**(-3)\n",
    "it = 2000\n",
    "theta, p3_2st, p3_2sv = grad_desc_PP(theta,x_stand,y_stand,a,it,Vx_stand,Vy_stand)\n",
    "print(theta)\n",
    "plt.plot(range(it),p3_2st, color ='blue',label='Training Loss')\n",
    "plt.plot(range(it),p3_2sv, color ='red', label='Validation Loss')\n",
    "plt.title('Loss Function of total')\n",
    "plt.xlabel('Iteration')\n",
    "plt.ylabel('Loss')\n",
    "plt.legend()"
   ]
  },
  {
   "cell_type": "code",
   "execution_count": null,
   "id": "791b25e7",
   "metadata": {},
   "outputs": [],
   "source": []
  }
 ],
 "metadata": {
  "kernelspec": {
   "display_name": "Python 3 (ipykernel)",
   "language": "python",
   "name": "python3"
  },
  "language_info": {
   "codemirror_mode": {
    "name": "ipython",
    "version": 3
   },
   "file_extension": ".py",
   "mimetype": "text/x-python",
   "name": "python",
   "nbconvert_exporter": "python",
   "pygments_lexer": "ipython3",
   "version": "3.9.12"
  }
 },
 "nbformat": 4,
 "nbformat_minor": 5
}
