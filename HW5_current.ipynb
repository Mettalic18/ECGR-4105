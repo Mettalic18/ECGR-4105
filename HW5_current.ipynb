{
 "cells": [
  {
   "cell_type": "code",
   "execution_count": 1,
   "id": "3badb126",
   "metadata": {},
   "outputs": [],
   "source": [
    "import torch\n",
    "import pandas as pd\n",
    "import numpy as np\n",
    "import matplotlib.pyplot as plt\n",
    "t_c = [0.5,14.0,15.0,28.0,11.0,8.0,3.0,-4.0,6.0,13.0,21.0]\n",
    "t_u = [35.7,55.9,58.2,81.9,56.3,48.9,33.9,21.8,48.4,60.4,68.4]\n",
    "\n",
    "def normalization(X): # input tensor, output normalized tensor\n",
    "    X_min,X_max = X.min(),X.max()\n",
    "    new_min, new_max = 0, 1\n",
    "    X_n = (X-X_min)/((X_max - X_min)*(new_max - new_min)+new_min)\n",
    "    return X_n\n",
    "\n",
    "    \n",
    "\n",
    "t_c = torch.tensor(t_c)\n",
    "t_u = torch.tensor(t_u)\n",
    "\n",
    "t_cn = normalization(t_c)\n",
    "t_un = normalization(t_u)\n",
    "\n",
    "\n"
   ]
  },
  {
   "cell_type": "code",
   "execution_count": 2,
   "id": "d16a9a99",
   "metadata": {},
   "outputs": [],
   "source": [
    "def model(t_u,w2,w1,b): # forward pass, returns the value t_p\n",
    "    return w2*(t_u**2)+w1*t_u+b\n",
    "\n",
    "def loss(t_p,t_c): # loss calculation \n",
    "    squared_diffs = (t_p-t_c)**2\n",
    "    return squared_diffs.mean()\n",
    "\n",
    "weights = torch.tensor([1.0,1.0,0.0],requires_grad = True)\n",
    "\n",
    "def training_loop(iterations,learning_rate,t_u,t_c,weights):\n",
    "    for epoch in range(iterations+1):\n",
    "        L = loss(model(t_u,*weights),t_c)\n",
    "        L.backward()\n",
    "        \n",
    "        with torch.no_grad():\n",
    "            weights -= learning_rate *weights.grad\n",
    "            \n",
    "       \n",
    "        if epoch % 500 ==0:\n",
    "            print('Epoch %d, Loss %f' % (epoch,float(L)))\n",
    "    plt.plot(t_u,t_c,'ro')\n",
    "    plt.plot(t_u, model(t_u,*weights).detach().numpy())\n",
    "    plt.title('temperature non-linear linear regression model with learning rate %d' % (learning_rate))\n",
    "    plt.xlabel('Fahrenheit')\n",
    "    plt.ylabel('celsius')\n",
    "    plt.legend()\n",
    "    return weights\n",
    "    "
   ]
  },
  {
   "cell_type": "code",
   "execution_count": 3,
   "id": "4f8d6105",
   "metadata": {},
   "outputs": [
    {
     "name": "stdout",
     "output_type": "stream",
     "text": [
      "Epoch 0, Loss 0.206668\n",
      "Epoch 500, Loss 0.216073\n",
      "Epoch 1000, Loss 0.203958\n",
      "Epoch 1500, Loss 0.171789\n",
      "Epoch 2000, Loss 0.126865\n",
      "Epoch 2500, Loss 0.077982\n",
      "Epoch 3000, Loss 0.035679\n",
      "Epoch 3500, Loss 0.008773\n",
      "Epoch 4000, Loss 0.002751\n",
      "Epoch 4500, Loss 0.019313\n"
     ]
    },
    {
     "name": "stderr",
     "output_type": "stream",
     "text": [
      "No artists with labels found to put in legend.  Note that artists whose label start with an underscore are ignored when legend() is called with no argument.\n"
     ]
    },
    {
     "name": "stdout",
     "output_type": "stream",
     "text": [
      "Epoch 5000, Loss 0.054366\n",
      "\n",
      "\n",
      "\n",
      "\n",
      "Epoch 0, Loss 0.014421\n",
      "Epoch 500, Loss 0.029790\n",
      "Epoch 1000, Loss 0.005882\n",
      "Epoch 1500, Loss 0.018495\n",
      "Epoch 2000, Loss 0.027118\n",
      "Epoch 2500, Loss 0.010747\n",
      "Epoch 3000, Loss 0.018738\n",
      "Epoch 3500, Loss 0.014762\n"
     ]
    },
    {
     "name": "stderr",
     "output_type": "stream",
     "text": [
      "No artists with labels found to put in legend.  Note that artists whose label start with an underscore are ignored when legend() is called with no argument.\n"
     ]
    },
    {
     "name": "stdout",
     "output_type": "stream",
     "text": [
      "Epoch 4000, Loss 0.029790\n",
      "Epoch 4500, Loss 0.005026\n",
      "Epoch 5000, Loss 0.019820\n",
      "\n",
      "\n",
      "\n",
      "\n",
      "Epoch 0, Loss 0.017779\n",
      "Epoch 500, Loss 0.007261\n",
      "Epoch 1000, Loss 0.010051\n",
      "Epoch 1500, Loss 0.011533\n",
      "Epoch 2000, Loss 0.011488\n",
      "Epoch 2500, Loss 0.011360\n",
      "Epoch 3000, Loss 0.005682\n",
      "Epoch 3500, Loss 0.017374\n",
      "Epoch 4000, Loss 0.008880\n",
      "Epoch 4500, Loss 0.005057\n"
     ]
    },
    {
     "name": "stderr",
     "output_type": "stream",
     "text": [
      "No artists with labels found to put in legend.  Note that artists whose label start with an underscore are ignored when legend() is called with no argument.\n"
     ]
    },
    {
     "name": "stdout",
     "output_type": "stream",
     "text": [
      "Epoch 5000, Loss 0.019023\n",
      "\n",
      "\n",
      "\n",
      "\n",
      "Epoch 0, Loss 0.018954\n",
      "Epoch 500, Loss 0.007356\n",
      "Epoch 1000, Loss 0.004855\n",
      "Epoch 1500, Loss 0.016898\n",
      "Epoch 2000, Loss 0.010608\n",
      "Epoch 2500, Loss 0.006803\n",
      "Epoch 3000, Loss 0.012241\n",
      "Epoch 3500, Loss 0.010167\n",
      "Epoch 4000, Loss 0.012182\n",
      "Epoch 4500, Loss 0.010296\n"
     ]
    },
    {
     "name": "stderr",
     "output_type": "stream",
     "text": [
      "No artists with labels found to put in legend.  Note that artists whose label start with an underscore are ignored when legend() is called with no argument.\n"
     ]
    },
    {
     "name": "stdout",
     "output_type": "stream",
     "text": [
      "Epoch 5000, Loss 0.005766\n",
      "\n",
      "\n",
      "\n",
      "\n"
     ]
    },
    {
     "data": {
      "image/png": "[encoded data removed]",
      "text/plain": [
       "<Figure size 432x288 with 1 Axes>"
      ]
     },
     "metadata": {
      "needs_background": "light"
     },
     "output_type": "display_data"
    }
   ],
   "source": [
    "w = training_loop(5000,0.1,t_un,t_cn,weights)\n",
    "\n",
    "print('\\n\\n\\n')\n",
    "w = training_loop(5000,0.01,t_un,t_cn,weights)\n",
    "\n",
    "print('\\n\\n\\n')\n",
    "w = training_loop(5000,0.001,t_un,t_cn,weights)\n",
    "\n",
    "print('\\n\\n\\n')\n",
    "w = training_loop(5000,0.0001,t_un,t_cn,weights)\n",
    "\n",
    "print('\\n\\n\\n')"
   ]
  },
  {
   "cell_type": "code",
   "execution_count": 4,
   "id": "c5204fa5",
   "metadata": {},
   "outputs": [],
   "source": [
    "#best of slides = 2.927646, best of non-linear = 0.0001 (bottom)\n",
    "#problem 2 ALMOST DONE, BUT NEEDS TEST/VALIDATION SPLIT\n",
    "df = pd.read_csv(\"Housing.csv\")\n",
    "xnum = ['area','bedrooms','bathrooms','stories','parking']\n",
    "y = df['price'].values #t_c\n",
    "x = df[xnum]\n",
    "x0 = np.ones((len(y),1))\n",
    "\n",
    "X= np.hstack((x,x0)) #t_u\n",
    "X = torch.from_numpy(X)\n",
    "y = torch.from_numpy(y)\n",
    "\n",
    "X = normalization(X)\n",
    "y = normalization(y)\n",
    "\n",
    "weights = torch.tensor([1.0,1.0,1.0,1.0,1.0,0.0],requires_grad = True)"
   ]
  },
  {
   "cell_type": "code",
   "execution_count": 5,
   "id": "d4245a63",
   "metadata": {},
   "outputs": [
    {
     "name": "stdout",
     "output_type": "stream",
     "text": [
      "torch.Size([545, 6])\n",
      "torch.Size([545])\n",
      "Epoch 0, Loss 0.432234\n",
      "Epoch 500, Loss 0.098287\n",
      "Epoch 1000, Loss 0.222024\n",
      "Epoch 1500, Loss 0.373391\n",
      "Epoch 2000, Loss 0.026252\n",
      "Epoch 2500, Loss 0.387229\n",
      "Epoch 3000, Loss 0.201496\n",
      "Epoch 3500, Loss 0.114865\n",
      "Epoch 4000, Loss 0.428262\n",
      "Epoch 4500, Loss 0.052314\n",
      "Epoch 5000, Loss 0.294105\n",
      "Epoch 0, Loss 0.242626\n",
      "Epoch 500, Loss 0.051806\n",
      "Epoch 1000, Loss 0.227997\n",
      "Epoch 1500, Loss 0.068350\n",
      "Epoch 2000, Loss 0.209968\n",
      "Epoch 2500, Loss 0.087543\n",
      "Epoch 3000, Loss 0.189621\n",
      "Epoch 3500, Loss 0.109097\n",
      "Epoch 4000, Loss 0.167093\n",
      "Epoch 4500, Loss 0.132110\n",
      "Epoch 5000, Loss 0.143969\n",
      "Epoch 0, Loss 0.134363\n",
      "Epoch 500, Loss 0.117212\n",
      "Epoch 1000, Loss 0.095642\n",
      "Epoch 1500, Loss 0.072801\n",
      "Epoch 2000, Loss 0.051988\n",
      "Epoch 2500, Loss 0.036134\n",
      "Epoch 3000, Loss 0.027407\n",
      "Epoch 3500, Loss 0.026999\n",
      "Epoch 4000, Loss 0.035006\n",
      "Epoch 4500, Loss 0.050373\n",
      "Epoch 5000, Loss 0.070957\n",
      "Epoch 0, Loss 0.072483\n",
      "Epoch 500, Loss 0.026502\n",
      "Epoch 1000, Loss 0.064116\n",
      "Epoch 1500, Loss 0.066421\n",
      "Epoch 2000, Loss 0.026144\n",
      "Epoch 2500, Loss 0.070601\n",
      "Epoch 3000, Loss 0.059293\n",
      "Epoch 3500, Loss 0.027911\n",
      "Epoch 4000, Loss 0.075649\n",
      "Epoch 4500, Loss 0.051694\n",
      "Epoch 5000, Loss 0.031704\n"
     ]
    },
    {
     "data": {
      "text/plain": [
       "tensor([0.1376, 0.1376, 0.1376, 0.1376, 0.1376, 0.2232], requires_grad=True)"
      ]
     },
     "execution_count": 5,
     "metadata": {},
     "output_type": "execute_result"
    },
    {
     "data": {
      "image/png": "[encoded data removed]",
      "text/plain": [
       "<Figure size 432x288 with 1 Axes>"
      ]
     },
     "metadata": {
      "needs_background": "light"
     },
     "output_type": "display_data"
    }
   ],
   "source": [
    "def model_p2(t_u,w5,w4,w3,w2,w1,b): # forward pass, returns the value t_p\n",
    "    return w5*t_u+w4*t_u+w3*t_u+w2*t_u+w1*t_u+b\n",
    "\n",
    "def training_loop_p2(iterations,learning_rate,t_u,t_c,weights):\n",
    "    for epoch in range(iterations+1):\n",
    "        L = loss(model_p2(torch.transpose(t_u,0,1),*weights),t_c)\n",
    "        L.backward()\n",
    "        \n",
    "        with torch.no_grad():\n",
    "            weights -= learning_rate *weights.grad\n",
    "            \n",
    "       \n",
    "        if epoch % 500 ==0:\n",
    "            print('Epoch %d, Loss %f' % (epoch,float(L)))\n",
    "    plt.plot(t_u,t_c,'ro')\n",
    "    plt.plot(t_u, model_p2(t_u,*weights).detach().numpy())\n",
    "    plt.title('temperature non-linear linear regression model with learning rate %d' % (float(learning_rate)))\n",
    "    plt.xlabel('Fahrenheit')\n",
    "    plt.ylabel('celsius')\n",
    "    return weights\n",
    "\n",
    "\n",
    "print(model_p2(X,*weights).size())\n",
    "print(y.size())\n",
    "model_p2(X,*weights)\n",
    "training_loop_p2(5000,0.1,X,y,weights)\n",
    "training_loop_p2(5000,0.01,X,y,weights)\n",
    "training_loop_p2(5000,0.001,X,y,weights)\n",
    "training_loop_p2(5000,0.0001,X,y,weights)"
   ]
  },
  {
   "cell_type": "code",
   "execution_count": 6,
   "id": "b1cb311a",
   "metadata": {},
   "outputs": [],
   "source": [
    "#best is 0.001, "
   ]
  }
 ],
 "metadata": {
  "kernelspec": {
   "display_name": "Python 3 (ipykernel)",
   "language": "python",
   "name": "python3"
  },
  "language_info": {
   "codemirror_mode": {
    "name": "ipython",
    "version": 3
   },
   "file_extension": ".py",
   "mimetype": "text/x-python",
   "name": "python",
   "nbconvert_exporter": "python",
   "pygments_lexer": "ipython3",
   "version": "3.9.12"
  }
 },
 "nbformat": 4,
 "nbformat_minor": 5
}
